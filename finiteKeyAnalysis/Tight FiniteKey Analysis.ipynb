{
 "cells": [
  {
   "cell_type": "code",
   "execution_count": 26,
   "metadata": {},
   "outputs": [],
   "source": [
    "import math\n",
    "import numpy\n",
    "import pandas as pd"
   ]
  },
  {
   "cell_type": "code",
   "execution_count": 51,
   "metadata": {},
   "outputs": [],
   "source": [
    "epsSEC = 10**-6\n",
    "\n",
    "QBER = 0.0439\n",
    "epsCOR = 10**-6\n",
    "#q=1"
   ]
  },
  {
   "cell_type": "code",
   "execution_count": 52,
   "metadata": {},
   "outputs": [],
   "source": [
    "df = pd.read_csv(\"fvals_new.csv\")"
   ]
  },
  {
   "cell_type": "code",
   "execution_count": 53,
   "metadata": {},
   "outputs": [
    {
     "data": {
      "text/html": [
       "<div>\n",
       "<style scoped>\n",
       "    .dataframe tbody tr th:only-of-type {\n",
       "        vertical-align: middle;\n",
       "    }\n",
       "\n",
       "    .dataframe tbody tr th {\n",
       "        vertical-align: top;\n",
       "    }\n",
       "\n",
       "    .dataframe thead th {\n",
       "        text-align: right;\n",
       "    }\n",
       "</style>\n",
       "<table border=\"1\" class=\"dataframe\">\n",
       "  <thead>\n",
       "    <tr style=\"text-align: right;\">\n",
       "      <th></th>\n",
       "      <th>Unnamed: 0</th>\n",
       "      <th>in_filename</th>\n",
       "      <th>bit_exposed_in_10k</th>\n",
       "      <th>QBER</th>\n",
       "      <th>fvals</th>\n",
       "      <th>rvals</th>\n",
       "      <th>SiftedKey</th>\n",
       "    </tr>\n",
       "  </thead>\n",
       "  <tbody>\n",
       "    <tr>\n",
       "      <th>0</th>\n",
       "      <td>0</td>\n",
       "      <td>./temp/Q049.input</td>\n",
       "      <td>5107</td>\n",
       "      <td>0.0490</td>\n",
       "      <td>1.767709</td>\n",
       "      <td>0.498730</td>\n",
       "      <td>115027</td>\n",
       "    </tr>\n",
       "    <tr>\n",
       "      <th>1</th>\n",
       "      <td>1</td>\n",
       "      <td>./temp/Q0266.input</td>\n",
       "      <td>3786</td>\n",
       "      <td>0.0266</td>\n",
       "      <td>2.088339</td>\n",
       "      <td>0.369727</td>\n",
       "      <td>46873</td>\n",
       "    </tr>\n",
       "    <tr>\n",
       "      <th>2</th>\n",
       "      <td>2</td>\n",
       "      <td>./temp/Q0439.input</td>\n",
       "      <td>4511</td>\n",
       "      <td>0.0439</td>\n",
       "      <td>1.695012</td>\n",
       "      <td>0.440527</td>\n",
       "      <td>93734</td>\n",
       "    </tr>\n",
       "    <tr>\n",
       "      <th>3</th>\n",
       "      <td>3</td>\n",
       "      <td>./temp/Q0243.input</td>\n",
       "      <td>3084</td>\n",
       "      <td>0.0243</td>\n",
       "      <td>1.825876</td>\n",
       "      <td>0.301172</td>\n",
       "      <td>30292</td>\n",
       "    </tr>\n",
       "    <tr>\n",
       "      <th>4</th>\n",
       "      <td>4</td>\n",
       "      <td>./temp/Q0277.input</td>\n",
       "      <td>3525</td>\n",
       "      <td>0.0277</td>\n",
       "      <td>1.883936</td>\n",
       "      <td>0.344238</td>\n",
       "      <td>57944</td>\n",
       "    </tr>\n",
       "    <tr>\n",
       "      <th>5</th>\n",
       "      <td>5</td>\n",
       "      <td>./temp/Q0336.input</td>\n",
       "      <td>3740</td>\n",
       "      <td>0.0336</td>\n",
       "      <td>1.721698</td>\n",
       "      <td>0.365234</td>\n",
       "      <td>68107</td>\n",
       "    </tr>\n",
       "  </tbody>\n",
       "</table>\n",
       "</div>"
      ],
      "text/plain": [
       "   Unnamed: 0         in_filename  bit_exposed_in_10k    QBER     fvals  \\\n",
       "0           0   ./temp/Q049.input                5107  0.0490  1.767709   \n",
       "1           1  ./temp/Q0266.input                3786  0.0266  2.088339   \n",
       "2           2  ./temp/Q0439.input                4511  0.0439  1.695012   \n",
       "3           3  ./temp/Q0243.input                3084  0.0243  1.825876   \n",
       "4           4  ./temp/Q0277.input                3525  0.0277  1.883936   \n",
       "5           5  ./temp/Q0336.input                3740  0.0336  1.721698   \n",
       "\n",
       "      rvals  SiftedKey  \n",
       "0  0.498730     115027  \n",
       "1  0.369727      46873  \n",
       "2  0.440527      93734  \n",
       "3  0.301172      30292  \n",
       "4  0.344238      57944  \n",
       "5  0.365234      68107  "
      ]
     },
     "execution_count": 53,
     "metadata": {},
     "output_type": "execute_result"
    }
   ],
   "source": [
    "df"
   ]
  },
  {
   "cell_type": "code",
   "execution_count": 54,
   "metadata": {},
   "outputs": [
    {
     "data": {
      "text/plain": [
       "100000.0"
      ]
     },
     "execution_count": 54,
     "metadata": {},
     "output_type": "execute_result"
    }
   ],
   "source": [
    "N=10000000000\n",
    "math.sqrt(N)"
   ]
  },
  {
   "cell_type": "code",
   "execution_count": 55,
   "metadata": {},
   "outputs": [],
   "source": [
    "k = 10000\n",
    "n = N - k\n",
    "leakEC = 4980 * (n/10240)"
   ]
  },
  {
   "cell_type": "code",
   "execution_count": 56,
   "metadata": {},
   "outputs": [
    {
     "data": {
      "text/plain": [
       "0.0380921555105788"
      ]
     },
     "execution_count": 56,
     "metadata": {},
     "output_type": "execute_result"
    }
   ],
   "source": [
    "term1 = (n+k)/(n*k)\n",
    "term2 = (k+1)/k\n",
    "term3 = math.log(2/epsSEC)\n",
    "interm = term1*term2*term3\n",
    "mu = math.sqrt(interm)\n",
    "mu"
   ]
  },
  {
   "cell_type": "code",
   "execution_count": 57,
   "metadata": {},
   "outputs": [],
   "source": [
    "def h(p):\n",
    "    if p == 1: return 0\n",
    "    if p == 0: return 0\n",
    "    return -p*math.log2(p)-(1-p)*math.log2(1-p)"
   ]
  },
  {
   "cell_type": "code",
   "execution_count": 58,
   "metadata": {},
   "outputs": [],
   "source": [
    "error_term = math.log(2/(epsSEC*epsSEC*epsCOR))"
   ]
  },
  {
   "cell_type": "code",
   "execution_count": 59,
   "metadata": {},
   "outputs": [],
   "source": [
    "#q-h(Qtol+mu)"
   ]
  },
  {
   "cell_type": "code",
   "execution_count": 60,
   "metadata": {},
   "outputs": [],
   "source": [
    "#secret Key length\n",
    "#l = n*(q-h(Qtol+mu) ) - leakEC -error_term \n",
    "#l"
   ]
  },
  {
   "cell_type": "code",
   "execution_count": 61,
   "metadata": {},
   "outputs": [],
   "source": [
    "def compute_l(N,beta,qber,leakEC): \n",
    "    q=1\n",
    "    Qtol = qber\n",
    "    k = beta*N\n",
    "    n = N - k\n",
    "    term1 = (n+k)/(n*k)\n",
    "    term2 = (k+1)/k\n",
    "    term3 = math.log(2/epsSEC)\n",
    "    interm = term1*term2*term3\n",
    "    mu = math.sqrt(interm)\n",
    "    error_term = math.log(2/(epsSEC*epsSEC*epsCOR))\n",
    "    if (Qtol+mu >1 or Qtol+mu <0 ):\n",
    "        return 0\n",
    "    l = n*(q-h(Qtol+mu) ) - leakEC -error_term \n",
    "    return l\n"
   ]
  },
  {
   "cell_type": "code",
   "execution_count": 62,
   "metadata": {},
   "outputs": [],
   "source": [
    "#compute_l(93734,0.10,0.0439)"
   ]
  },
  {
   "cell_type": "code",
   "execution_count": 63,
   "metadata": {},
   "outputs": [],
   "source": [
    "beta_vals = numpy.linspace(0.0005005,.5,1000)"
   ]
  },
  {
   "cell_type": "code",
   "execution_count": null,
   "metadata": {},
   "outputs": [],
   "source": [
    "\n"
   ]
  },
  {
   "cell_type": "code",
   "execution_count": 64,
   "metadata": {},
   "outputs": [],
   "source": [
    "def optimize(N,beta_vals,qber,f):\n",
    "    max_l = 0\n",
    "    for beta in beta_vals:\n",
    "        r = f * h(qber)\n",
    "        l = compute_l(N,beta,qber,leakEC=N*r)\n",
    "        if max_l < l:\n",
    "            max_l = l\n",
    "    print (int(max_l))\n",
    "    return max_l"
   ]
  },
  {
   "cell_type": "code",
   "execution_count": 65,
   "metadata": {},
   "outputs": [
    {
     "name": "stdout",
     "output_type": "stream",
     "text": [
      "7524\n"
     ]
    },
    {
     "data": {
      "text/plain": [
       "7524.8460081483345"
      ]
     },
     "execution_count": 65,
     "metadata": {},
     "output_type": "execute_result"
    }
   ],
   "source": [
    "optimize(93734,beta_vals,0.0439,1.695012)"
   ]
  },
  {
   "cell_type": "code",
   "execution_count": 66,
   "metadata": {
    "scrolled": true
   },
   "outputs": [
    {
     "name": "stdout",
     "output_type": "stream",
     "text": [
      "21921\n",
      "14882\n",
      "20558\n",
      "9073\n",
      "18823\n",
      "19382\n"
     ]
    }
   ],
   "source": [
    "l_vals = []\n",
    "for index, row in df.iterrows():\n",
    "    N = float(row['SiftedKey'])\n",
    "    qber=float(row[\"QBER\"])\n",
    "    f=float(row[\"fvals\"])\n",
    "    #print ( N,qber,f)\n",
    "    l = optimize(N=N,beta_vals=beta_vals,qber=qber,f=1.16)\n",
    "    #print (index)\n",
    "    l_vals.append(l)\n",
    "    #print (l)"
   ]
  },
  {
   "cell_type": "code",
   "execution_count": null,
   "metadata": {},
   "outputs": [],
   "source": []
  },
  {
   "cell_type": "code",
   "execution_count": 67,
   "metadata": {},
   "outputs": [
    {
     "data": {
      "text/plain": [
       "0.16494651525786994"
      ]
     },
     "execution_count": 67,
     "metadata": {},
     "output_type": "execute_result"
    }
   ],
   "source": [
    "h(0.0243)"
   ]
  },
  {
   "cell_type": "code",
   "execution_count": 68,
   "metadata": {},
   "outputs": [
    {
     "name": "stdout",
     "output_type": "stream",
     "text": [
      "2199\n"
     ]
    },
    {
     "data": {
      "text/plain": [
       "2199.1673383950974"
      ]
     },
     "execution_count": 68,
     "metadata": {},
     "output_type": "execute_result"
    }
   ],
   "source": [
    "optimize(115027.0,beta_vals,0.049,1.7677093755063)"
   ]
  },
  {
   "cell_type": "code",
   "execution_count": 69,
   "metadata": {},
   "outputs": [
    {
     "data": {
      "text/plain": [
       "3404293470.703125"
      ]
     },
     "execution_count": 69,
     "metadata": {},
     "output_type": "execute_result"
    }
   ],
   "source": [
    "1.4*leakEC/2"
   ]
  },
  {
   "cell_type": "code",
   "execution_count": 70,
   "metadata": {},
   "outputs": [
    {
     "data": {
      "text/plain": [
       "2431638193.359375"
      ]
     },
     "execution_count": 70,
     "metadata": {},
     "output_type": "execute_result"
    }
   ],
   "source": [
    "leakEC/2"
   ]
  },
  {
   "cell_type": "code",
   "execution_count": 71,
   "metadata": {},
   "outputs": [
    {
     "data": {
      "text/plain": [
       "2422.8301498832925"
      ]
     },
     "execution_count": 71,
     "metadata": {},
     "output_type": "execute_result"
    }
   ],
   "source": [
    "l/8"
   ]
  },
  {
   "cell_type": "code",
   "execution_count": 72,
   "metadata": {},
   "outputs": [
    {
     "data": {
      "text/plain": [
       "68107"
      ]
     },
     "execution_count": 72,
     "metadata": {},
     "output_type": "execute_result"
    }
   ],
   "source": [
    "115027\n",
    "46873\n",
    "93734\n",
    "30292\n",
    "57944\n",
    "68107"
   ]
  },
  {
   "cell_type": "code",
   "execution_count": null,
   "metadata": {},
   "outputs": [],
   "source": []
  }
 ],
 "metadata": {
  "kernelspec": {
   "display_name": "Python 3",
   "language": "python",
   "name": "python3"
  },
  "language_info": {
   "codemirror_mode": {
    "name": "ipython",
    "version": 3
   },
   "file_extension": ".py",
   "mimetype": "text/x-python",
   "name": "python",
   "nbconvert_exporter": "python",
   "pygments_lexer": "ipython3",
   "version": "3.8.2"
  }
 },
 "nbformat": 4,
 "nbformat_minor": 4
}
