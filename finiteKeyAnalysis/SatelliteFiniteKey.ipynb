{
 "cells": [
  {
   "cell_type": "code",
   "execution_count": 922,
   "metadata": {},
   "outputs": [],
   "source": [
    "import numpy as np\n",
    "import math\n",
    "from scipy.optimize import minimize"
   ]
  },
  {
   "cell_type": "code",
   "execution_count": 923,
   "metadata": {},
   "outputs": [
    {
     "data": {
      "text/plain": [
       "0.396484375"
      ]
     },
     "execution_count": 923,
     "metadata": {},
     "output_type": "execute_result"
    }
   ],
   "source": [
    "m = 46873\n",
    "delta = 0.02\n",
    "t = 64\n",
    "\n",
    "E_qkd = 10**-6\n",
    "\n",
    "bexp10k = 4060\n",
    "bexp10k/10240"
   ]
  },
  {
   "cell_type": "code",
   "execution_count": 924,
   "metadata": {},
   "outputs": [],
   "source": [
    "def h(p):\n",
    "    if p == 1: return 0\n",
    "    if p == 0: return 0\n",
    "    return -p*math.log2(p)-(1-p)*math.log2(1-p)"
   ]
  },
  {
   "cell_type": "code",
   "execution_count": 925,
   "metadata": {},
   "outputs": [],
   "source": [
    "def gamma_del_xi (xi):\n",
    "    global m\n",
    "    global delta \n",
    "    term1 = 1.0/(m*(delta+xi) +1)\n",
    "    term2 = 1.0/ (m - m*(delta + xi) + 1 )\n",
    "    return term1 + term2 \n"
   ]
  },
  {
   "cell_type": "code",
   "execution_count": 926,
   "metadata": {},
   "outputs": [],
   "source": [
    "def E_pe(nu,xi,beta):\n",
    "    global m\n",
    "    \n",
    "    k = m*beta\n",
    "    n = m - k\n",
    "    nu_prime = nu - xi \n",
    "    term1 = np.exp(-2.0 * m*k*(xi**2) / (n+1)) \n",
    "    term2 = np.exp(-2.0 * gamma_del_xi(xi)*( (n*nu_prime)**2 -1) )\n",
    "    return  np.sqrt(term1+term2)\n",
    "    "
   ]
  },
  {
   "cell_type": "code",
   "execution_count": 927,
   "metadata": {},
   "outputs": [],
   "source": [
    "def E_pa (nu,alpha,beta):\n",
    "    global m\n",
    "    global delta\n",
    "    global t\n",
    "    r = 1.19 *h(delta)\n",
    "    #r = bexp10k/10240\n",
    "    \n",
    "    l = m*alpha\n",
    "    n = m - m*beta\n",
    "    exponent = (-n*(1-h(delta+nu)-r)+t+l)\n",
    "    return np.sqrt(np.power(2.0,exponent) ) / 2.0 \n"
   ]
  },
  {
   "cell_type": "code",
   "execution_count": 928,
   "metadata": {},
   "outputs": [],
   "source": [
    "#Optimization code below \n",
    "\n",
    "# x = (alpha, beta, nu, xi)\n",
    "def objective(x):\n",
    "    global m\n",
    "    alpha = x[0]\n",
    "    obj = -(alpha*m)\n",
    "    return obj\n"
   ]
  },
  {
   "cell_type": "code",
   "execution_count": 929,
   "metadata": {},
   "outputs": [],
   "source": [
    "def ineq1 (x):\n",
    "    alpha = x[0]\n",
    "    beta = x[1]\n",
    "    nu = x[2]\n",
    "    xi = x[3]\n",
    "    global E_qkd\n",
    "    global t\n",
    "    \n",
    "    lhs = 2**-t + 2*E_pe(nu,xi,beta) + E_pa(nu,alpha,beta)\n",
    "    return E_qkd - lhs\n",
    "\n",
    "def ineq2 (x):\n",
    "    alpha = x[0]\n",
    "    beta = x[1]\n",
    "    nu = x[2]\n",
    "    xi = x[3]\n",
    "    return nu - xi\n"
   ]
  },
  {
   "cell_type": "code",
   "execution_count": 930,
   "metadata": {},
   "outputs": [],
   "source": [
    "#bounds\n",
    "bnds = ((0,1.0),(0,0.4),(0,0.5-delta),(0,0.5-delta))\n",
    "\n",
    "x0 = [1.9e-3,0.2,0.11,0.049]"
   ]
  },
  {
   "cell_type": "code",
   "execution_count": null,
   "metadata": {},
   "outputs": [],
   "source": []
  },
  {
   "cell_type": "code",
   "execution_count": 931,
   "metadata": {},
   "outputs": [],
   "source": [
    "con1 = {'type':'ineq','fun':ineq1}\n",
    "con2 = {'type':'ineq','fun':ineq2}\n",
    "cons = [con1,con2]\n",
    "opts = {\"disp\": True, \"maxiter\": 5000}"
   ]
  },
  {
   "cell_type": "code",
   "execution_count": 932,
   "metadata": {},
   "outputs": [
    {
     "name": "stdout",
     "output_type": "stream",
     "text": [
      "Optimization terminated successfully    (Exit mode 0)\n",
      "            Current function value: -10114.759310063291\n",
      "            Iterations: 11\n",
      "            Function evaluations: 45\n",
      "            Gradient evaluations: 7\n"
     ]
    },
    {
     "name": "stderr",
     "output_type": "stream",
     "text": [
      "<ipython-input-927-6f305fe33eb0>:11: RuntimeWarning: overflow encountered in power\n",
      "  return np.sqrt(np.power(2.0,exponent) ) / 2.0\n"
     ]
    }
   ],
   "source": [
    "sol = minimize(objective, x0, method='SLSQP', bounds = bnds, constraints=cons,options=opts)\n",
    "\n",
    "#sol = minimize(objective, x0, method='Nelder-Mead', bounds = bnds, constraints=cons,options=opts)\n"
   ]
  },
  {
   "cell_type": "code",
   "execution_count": 933,
   "metadata": {},
   "outputs": [
    {
     "data": {
      "text/plain": [
       "     fun: -10114.759310063291\n",
       "     jac: array([-46873.,      0.,      0.,      0.])\n",
       " message: 'Optimization terminated successfully'\n",
       "    nfev: 45\n",
       "     nit: 11\n",
       "    njev: 7\n",
       "  status: 0\n",
       " success: True\n",
       "       x: array([0.21579074, 0.2       , 0.11      , 0.049     ])"
      ]
     },
     "execution_count": 933,
     "metadata": {},
     "output_type": "execute_result"
    }
   ],
   "source": [
    "sol"
   ]
  },
  {
   "cell_type": "code",
   "execution_count": null,
   "metadata": {},
   "outputs": [],
   "source": []
  },
  {
   "cell_type": "code",
   "execution_count": 934,
   "metadata": {},
   "outputs": [
    {
     "data": {
      "text/plain": [
       "9.999987913990644e-07"
      ]
     },
     "execution_count": 934,
     "metadata": {},
     "output_type": "execute_result"
    }
   ],
   "source": [
    "ineq1(sol.x)"
   ]
  },
  {
   "cell_type": "code",
   "execution_count": 935,
   "metadata": {},
   "outputs": [
    {
     "data": {
      "text/plain": [
       "3.0"
      ]
     },
     "execution_count": 935,
     "metadata": {},
     "output_type": "execute_result"
    }
   ],
   "source": [
    "math.log2(8)"
   ]
  },
  {
   "cell_type": "code",
   "execution_count": null,
   "metadata": {},
   "outputs": [],
   "source": []
  }
 ],
 "metadata": {
  "kernelspec": {
   "display_name": "Python 3",
   "language": "python",
   "name": "python3"
  },
  "language_info": {
   "codemirror_mode": {
    "name": "ipython",
    "version": 3
   },
   "file_extension": ".py",
   "mimetype": "text/x-python",
   "name": "python",
   "nbconvert_exporter": "python",
   "pygments_lexer": "ipython3",
   "version": "3.8.2"
  }
 },
 "nbformat": 4,
 "nbformat_minor": 4
}
