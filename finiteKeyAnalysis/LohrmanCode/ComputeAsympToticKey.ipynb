{
 "cells": [
  {
   "cell_type": "code",
   "execution_count": 1,
   "metadata": {},
   "outputs": [],
   "source": [
    "import pandas as pd\n",
    "import numpy"
   ]
  },
  {
   "cell_type": "code",
   "execution_count": 2,
   "metadata": {},
   "outputs": [],
   "source": [
    "N = [115027,46873,93734,30292,57944,68107]\n",
    "QBER = [0.049,0.0266,0.0439,0.0243,0.0277,0.0336]\n",
    "'''fvals_old = [2.377944666091307, 2.239476346134188,\n",
    "        2.32589753881454,2.5173879808909048,\n",
    "        2.410368581289115,2.4508873948681]'''\n",
    "        \n",
    "fvals= [1.7677093755063034,\n",
    " 2.0883392725280876,\n",
    " 1.695011922066622,\n",
    " 1.8258759485107126,\n",
    " 1.8839355319388318,\n",
    " 1.721697756725525]\n"
   ]
  },
  {
   "cell_type": "code",
   "execution_count": 3,
   "metadata": {},
   "outputs": [],
   "source": [
    "def h(Q):\n",
    "    return -Q*numpy.log2(Q)-(1-Q)*numpy.log2(1-Q); "
   ]
  },
  {
   "cell_type": "code",
   "execution_count": 10,
   "metadata": {},
   "outputs": [
    {
     "name": "stdout",
     "output_type": "stream",
     "text": [
      "25206\n",
      "21244\n",
      "28080\n",
      "16172\n",
      "27409\n",
      "28784\n"
     ]
    }
   ],
   "source": [
    "asymp_key = []\n",
    "\n",
    "for m,q,f in zip(N,QBER,fvals):\n",
    "    ak = m*(1.0 - h(q)- f*h(q))\n",
    "    asymp_key.append(ak)\n",
    "    print (int(ak))"
   ]
  },
  {
   "cell_type": "code",
   "execution_count": 5,
   "metadata": {},
   "outputs": [
    {
     "data": {
      "text/plain": [
       "[25206.531917954246,\n",
       " 21244.254300897046,\n",
       " 28080.489250519553,\n",
       " 16172.341722308603,\n",
       " 27409.757701527058,\n",
       " 28784.02401514833]"
      ]
     },
     "execution_count": 5,
     "metadata": {},
     "output_type": "execute_result"
    }
   ],
   "source": [
    "asymp_key"
   ]
  },
  {
   "cell_type": "code",
   "execution_count": null,
   "metadata": {},
   "outputs": [],
   "source": []
  }
 ],
 "metadata": {
  "kernelspec": {
   "display_name": "Python 3",
   "language": "python",
   "name": "python3"
  },
  "language_info": {
   "codemirror_mode": {
    "name": "ipython",
    "version": 3
   },
   "file_extension": ".py",
   "mimetype": "text/x-python",
   "name": "python",
   "nbconvert_exporter": "python",
   "pygments_lexer": "ipython3",
   "version": "3.8.2"
  }
 },
 "nbformat": 4,
 "nbformat_minor": 4
}
