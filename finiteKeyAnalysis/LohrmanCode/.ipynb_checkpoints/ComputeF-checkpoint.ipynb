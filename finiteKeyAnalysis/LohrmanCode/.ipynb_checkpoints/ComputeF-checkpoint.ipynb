{
 "cells": [
  {
   "cell_type": "code",
   "execution_count": 16,
   "metadata": {},
   "outputs": [],
   "source": [
    "import pandas as pd\n",
    "import numpy"
   ]
  },
  {
   "cell_type": "code",
   "execution_count": 17,
   "metadata": {},
   "outputs": [],
   "source": [
    "df = pd.read_csv(\"BitExposedNew.csv\")"
   ]
  },
  {
   "cell_type": "code",
   "execution_count": 18,
   "metadata": {},
   "outputs": [
    {
     "data": {
      "text/html": [
       "<div>\n",
       "<style scoped>\n",
       "    .dataframe tbody tr th:only-of-type {\n",
       "        vertical-align: middle;\n",
       "    }\n",
       "\n",
       "    .dataframe tbody tr th {\n",
       "        vertical-align: top;\n",
       "    }\n",
       "\n",
       "    .dataframe thead th {\n",
       "        text-align: right;\n",
       "    }\n",
       "</style>\n",
       "<table border=\"1\" class=\"dataframe\">\n",
       "  <thead>\n",
       "    <tr style=\"text-align: right;\">\n",
       "      <th></th>\n",
       "      <th>in_filename</th>\n",
       "      <th>bit_exposed_in_10k</th>\n",
       "    </tr>\n",
       "  </thead>\n",
       "  <tbody>\n",
       "    <tr>\n",
       "      <th>0</th>\n",
       "      <td>./temp/Q049.input</td>\n",
       "      <td>6870</td>\n",
       "    </tr>\n",
       "    <tr>\n",
       "      <th>1</th>\n",
       "      <td>./temp/Q0266.input</td>\n",
       "      <td>4060</td>\n",
       "    </tr>\n",
       "    <tr>\n",
       "      <th>2</th>\n",
       "      <td>./temp/Q0439.input</td>\n",
       "      <td>6190</td>\n",
       "    </tr>\n",
       "    <tr>\n",
       "      <th>3</th>\n",
       "      <td>./temp/Q0243.input</td>\n",
       "      <td>4252</td>\n",
       "    </tr>\n",
       "    <tr>\n",
       "      <th>4</th>\n",
       "      <td>./temp/Q0277.input</td>\n",
       "      <td>4510</td>\n",
       "    </tr>\n",
       "    <tr>\n",
       "      <th>5</th>\n",
       "      <td>./temp/Q0336.input</td>\n",
       "      <td>5324</td>\n",
       "    </tr>\n",
       "  </tbody>\n",
       "</table>\n",
       "</div>"
      ],
      "text/plain": [
       "          in_filename  bit_exposed_in_10k\n",
       "0   ./temp/Q049.input                6870\n",
       "1  ./temp/Q0266.input                4060\n",
       "2  ./temp/Q0439.input                6190\n",
       "3  ./temp/Q0243.input                4252\n",
       "4  ./temp/Q0277.input                4510\n",
       "5  ./temp/Q0336.input                5324"
      ]
     },
     "execution_count": 18,
     "metadata": {},
     "output_type": "execute_result"
    }
   ],
   "source": [
    "df"
   ]
  },
  {
   "cell_type": "code",
   "execution_count": 19,
   "metadata": {},
   "outputs": [],
   "source": [
    "QBER = [0.049,0.0266,0.0439,0.0243,0.0277,0.0336]"
   ]
  },
  {
   "cell_type": "code",
   "execution_count": 20,
   "metadata": {},
   "outputs": [],
   "source": [
    "df[\"QBER\"] = QBER"
   ]
  },
  {
   "cell_type": "code",
   "execution_count": 21,
   "metadata": {
    "scrolled": true
   },
   "outputs": [
    {
     "data": {
      "text/html": [
       "<div>\n",
       "<style scoped>\n",
       "    .dataframe tbody tr th:only-of-type {\n",
       "        vertical-align: middle;\n",
       "    }\n",
       "\n",
       "    .dataframe tbody tr th {\n",
       "        vertical-align: top;\n",
       "    }\n",
       "\n",
       "    .dataframe thead th {\n",
       "        text-align: right;\n",
       "    }\n",
       "</style>\n",
       "<table border=\"1\" class=\"dataframe\">\n",
       "  <thead>\n",
       "    <tr style=\"text-align: right;\">\n",
       "      <th></th>\n",
       "      <th>in_filename</th>\n",
       "      <th>bit_exposed_in_10k</th>\n",
       "      <th>QBER</th>\n",
       "    </tr>\n",
       "  </thead>\n",
       "  <tbody>\n",
       "    <tr>\n",
       "      <th>0</th>\n",
       "      <td>./temp/Q049.input</td>\n",
       "      <td>6870</td>\n",
       "      <td>0.0490</td>\n",
       "    </tr>\n",
       "    <tr>\n",
       "      <th>1</th>\n",
       "      <td>./temp/Q0266.input</td>\n",
       "      <td>4060</td>\n",
       "      <td>0.0266</td>\n",
       "    </tr>\n",
       "    <tr>\n",
       "      <th>2</th>\n",
       "      <td>./temp/Q0439.input</td>\n",
       "      <td>6190</td>\n",
       "      <td>0.0439</td>\n",
       "    </tr>\n",
       "    <tr>\n",
       "      <th>3</th>\n",
       "      <td>./temp/Q0243.input</td>\n",
       "      <td>4252</td>\n",
       "      <td>0.0243</td>\n",
       "    </tr>\n",
       "    <tr>\n",
       "      <th>4</th>\n",
       "      <td>./temp/Q0277.input</td>\n",
       "      <td>4510</td>\n",
       "      <td>0.0277</td>\n",
       "    </tr>\n",
       "    <tr>\n",
       "      <th>5</th>\n",
       "      <td>./temp/Q0336.input</td>\n",
       "      <td>5324</td>\n",
       "      <td>0.0336</td>\n",
       "    </tr>\n",
       "  </tbody>\n",
       "</table>\n",
       "</div>"
      ],
      "text/plain": [
       "          in_filename  bit_exposed_in_10k    QBER\n",
       "0   ./temp/Q049.input                6870  0.0490\n",
       "1  ./temp/Q0266.input                4060  0.0266\n",
       "2  ./temp/Q0439.input                6190  0.0439\n",
       "3  ./temp/Q0243.input                4252  0.0243\n",
       "4  ./temp/Q0277.input                4510  0.0277\n",
       "5  ./temp/Q0336.input                5324  0.0336"
      ]
     },
     "execution_count": 21,
     "metadata": {},
     "output_type": "execute_result"
    }
   ],
   "source": [
    "df"
   ]
  },
  {
   "cell_type": "code",
   "execution_count": 22,
   "metadata": {},
   "outputs": [],
   "source": [
    "def h(Q):\n",
    "    return -Q*numpy.log2(Q)-(1-Q)*numpy.log2(1-Q); "
   ]
  },
  {
   "cell_type": "code",
   "execution_count": 23,
   "metadata": {},
   "outputs": [],
   "source": [
    "r = 6870/10240"
   ]
  },
  {
   "cell_type": "code",
   "execution_count": 24,
   "metadata": {},
   "outputs": [],
   "source": [
    "#f =r/h(qber)"
   ]
  },
  {
   "cell_type": "code",
   "execution_count": 25,
   "metadata": {},
   "outputs": [],
   "source": [
    "fvals = []\n",
    "rvals = []\n",
    "for index, row in df.iterrows():\n",
    "    bx = float(row[\"bit_exposed_in_10k\"])\n",
    "    r = bx / 10240\n",
    "    f = r/ h(float(row[\"QBER\"]))\n",
    "    rvals.append(r)\n",
    "    fvals.append(f)"
   ]
  },
  {
   "cell_type": "code",
   "execution_count": 26,
   "metadata": {},
   "outputs": [],
   "source": [
    "df[\"fvals\"] = fvals\n",
    "df[\"rvals\"] = rvals"
   ]
  },
  {
   "cell_type": "code",
   "execution_count": 27,
   "metadata": {},
   "outputs": [],
   "source": [
    "df.to_csv(\"fvals_New.csv\")"
   ]
  },
  {
   "cell_type": "code",
   "execution_count": 28,
   "metadata": {},
   "outputs": [
    {
     "data": {
      "text/plain": [
       "[2.377944666091307,\n",
       " 2.239476346134188,\n",
       " 2.32589753881454,\n",
       " 2.5173879808909048,\n",
       " 2.410368581289115,\n",
       " 2.4508873948681]"
      ]
     },
     "execution_count": 28,
     "metadata": {},
     "output_type": "execute_result"
    }
   ],
   "source": [
    "fvals"
   ]
  },
  {
   "cell_type": "code",
   "execution_count": 29,
   "metadata": {},
   "outputs": [
    {
     "data": {
      "text/html": [
       "<div>\n",
       "<style scoped>\n",
       "    .dataframe tbody tr th:only-of-type {\n",
       "        vertical-align: middle;\n",
       "    }\n",
       "\n",
       "    .dataframe tbody tr th {\n",
       "        vertical-align: top;\n",
       "    }\n",
       "\n",
       "    .dataframe thead th {\n",
       "        text-align: right;\n",
       "    }\n",
       "</style>\n",
       "<table border=\"1\" class=\"dataframe\">\n",
       "  <thead>\n",
       "    <tr style=\"text-align: right;\">\n",
       "      <th></th>\n",
       "      <th>in_filename</th>\n",
       "      <th>bit_exposed_in_10k</th>\n",
       "      <th>QBER</th>\n",
       "      <th>fvals</th>\n",
       "      <th>rvals</th>\n",
       "    </tr>\n",
       "  </thead>\n",
       "  <tbody>\n",
       "    <tr>\n",
       "      <th>0</th>\n",
       "      <td>./temp/Q049.input</td>\n",
       "      <td>6870</td>\n",
       "      <td>0.0490</td>\n",
       "      <td>2.377945</td>\n",
       "      <td>0.670898</td>\n",
       "    </tr>\n",
       "    <tr>\n",
       "      <th>1</th>\n",
       "      <td>./temp/Q0266.input</td>\n",
       "      <td>4060</td>\n",
       "      <td>0.0266</td>\n",
       "      <td>2.239476</td>\n",
       "      <td>0.396484</td>\n",
       "    </tr>\n",
       "    <tr>\n",
       "      <th>2</th>\n",
       "      <td>./temp/Q0439.input</td>\n",
       "      <td>6190</td>\n",
       "      <td>0.0439</td>\n",
       "      <td>2.325898</td>\n",
       "      <td>0.604492</td>\n",
       "    </tr>\n",
       "    <tr>\n",
       "      <th>3</th>\n",
       "      <td>./temp/Q0243.input</td>\n",
       "      <td>4252</td>\n",
       "      <td>0.0243</td>\n",
       "      <td>2.517388</td>\n",
       "      <td>0.415234</td>\n",
       "    </tr>\n",
       "    <tr>\n",
       "      <th>4</th>\n",
       "      <td>./temp/Q0277.input</td>\n",
       "      <td>4510</td>\n",
       "      <td>0.0277</td>\n",
       "      <td>2.410369</td>\n",
       "      <td>0.440430</td>\n",
       "    </tr>\n",
       "    <tr>\n",
       "      <th>5</th>\n",
       "      <td>./temp/Q0336.input</td>\n",
       "      <td>5324</td>\n",
       "      <td>0.0336</td>\n",
       "      <td>2.450887</td>\n",
       "      <td>0.519922</td>\n",
       "    </tr>\n",
       "  </tbody>\n",
       "</table>\n",
       "</div>"
      ],
      "text/plain": [
       "          in_filename  bit_exposed_in_10k    QBER     fvals     rvals\n",
       "0   ./temp/Q049.input                6870  0.0490  2.377945  0.670898\n",
       "1  ./temp/Q0266.input                4060  0.0266  2.239476  0.396484\n",
       "2  ./temp/Q0439.input                6190  0.0439  2.325898  0.604492\n",
       "3  ./temp/Q0243.input                4252  0.0243  2.517388  0.415234\n",
       "4  ./temp/Q0277.input                4510  0.0277  2.410369  0.440430\n",
       "5  ./temp/Q0336.input                5324  0.0336  2.450887  0.519922"
      ]
     },
     "execution_count": 29,
     "metadata": {},
     "output_type": "execute_result"
    }
   ],
   "source": [
    "df"
   ]
  },
  {
   "cell_type": "code",
   "execution_count": 31,
   "metadata": {},
   "outputs": [
    {
     "data": {
      "text/html": [
       "<div>\n",
       "<style scoped>\n",
       "    .dataframe tbody tr th:only-of-type {\n",
       "        vertical-align: middle;\n",
       "    }\n",
       "\n",
       "    .dataframe tbody tr th {\n",
       "        vertical-align: top;\n",
       "    }\n",
       "\n",
       "    .dataframe thead th {\n",
       "        text-align: right;\n",
       "    }\n",
       "</style>\n",
       "<table border=\"1\" class=\"dataframe\">\n",
       "  <thead>\n",
       "    <tr style=\"text-align: right;\">\n",
       "      <th></th>\n",
       "      <th>in_filename</th>\n",
       "      <th>bit_exposed_in_10k</th>\n",
       "      <th>QBER</th>\n",
       "      <th>fvals</th>\n",
       "      <th>rvals</th>\n",
       "    </tr>\n",
       "  </thead>\n",
       "  <tbody>\n",
       "    <tr>\n",
       "      <th>3</th>\n",
       "      <td>./temp/Q0243.input</td>\n",
       "      <td>4252</td>\n",
       "      <td>0.0243</td>\n",
       "      <td>2.517388</td>\n",
       "      <td>0.415234</td>\n",
       "    </tr>\n",
       "    <tr>\n",
       "      <th>1</th>\n",
       "      <td>./temp/Q0266.input</td>\n",
       "      <td>4060</td>\n",
       "      <td>0.0266</td>\n",
       "      <td>2.239476</td>\n",
       "      <td>0.396484</td>\n",
       "    </tr>\n",
       "    <tr>\n",
       "      <th>4</th>\n",
       "      <td>./temp/Q0277.input</td>\n",
       "      <td>4510</td>\n",
       "      <td>0.0277</td>\n",
       "      <td>2.410369</td>\n",
       "      <td>0.440430</td>\n",
       "    </tr>\n",
       "    <tr>\n",
       "      <th>5</th>\n",
       "      <td>./temp/Q0336.input</td>\n",
       "      <td>5324</td>\n",
       "      <td>0.0336</td>\n",
       "      <td>2.450887</td>\n",
       "      <td>0.519922</td>\n",
       "    </tr>\n",
       "    <tr>\n",
       "      <th>2</th>\n",
       "      <td>./temp/Q0439.input</td>\n",
       "      <td>6190</td>\n",
       "      <td>0.0439</td>\n",
       "      <td>2.325898</td>\n",
       "      <td>0.604492</td>\n",
       "    </tr>\n",
       "    <tr>\n",
       "      <th>0</th>\n",
       "      <td>./temp/Q049.input</td>\n",
       "      <td>6870</td>\n",
       "      <td>0.0490</td>\n",
       "      <td>2.377945</td>\n",
       "      <td>0.670898</td>\n",
       "    </tr>\n",
       "  </tbody>\n",
       "</table>\n",
       "</div>"
      ],
      "text/plain": [
       "          in_filename  bit_exposed_in_10k    QBER     fvals     rvals\n",
       "3  ./temp/Q0243.input                4252  0.0243  2.517388  0.415234\n",
       "1  ./temp/Q0266.input                4060  0.0266  2.239476  0.396484\n",
       "4  ./temp/Q0277.input                4510  0.0277  2.410369  0.440430\n",
       "5  ./temp/Q0336.input                5324  0.0336  2.450887  0.519922\n",
       "2  ./temp/Q0439.input                6190  0.0439  2.325898  0.604492\n",
       "0   ./temp/Q049.input                6870  0.0490  2.377945  0.670898"
      ]
     },
     "execution_count": 31,
     "metadata": {},
     "output_type": "execute_result"
    }
   ],
   "source": [
    "df.sort_values(by=['QBER'])"
   ]
  },
  {
   "cell_type": "code",
   "execution_count": 32,
   "metadata": {},
   "outputs": [
    {
     "data": {
      "text/html": [
       "<div>\n",
       "<style scoped>\n",
       "    .dataframe tbody tr th:only-of-type {\n",
       "        vertical-align: middle;\n",
       "    }\n",
       "\n",
       "    .dataframe tbody tr th {\n",
       "        vertical-align: top;\n",
       "    }\n",
       "\n",
       "    .dataframe thead th {\n",
       "        text-align: right;\n",
       "    }\n",
       "</style>\n",
       "<table border=\"1\" class=\"dataframe\">\n",
       "  <thead>\n",
       "    <tr style=\"text-align: right;\">\n",
       "      <th></th>\n",
       "      <th>in_filename</th>\n",
       "      <th>bit_exposed_in_10k</th>\n",
       "      <th>QBER</th>\n",
       "      <th>fvals</th>\n",
       "      <th>rvals</th>\n",
       "    </tr>\n",
       "  </thead>\n",
       "  <tbody>\n",
       "    <tr>\n",
       "      <th>0</th>\n",
       "      <td>./temp/Q049.input</td>\n",
       "      <td>6870</td>\n",
       "      <td>0.0490</td>\n",
       "      <td>2.377945</td>\n",
       "      <td>0.670898</td>\n",
       "    </tr>\n",
       "    <tr>\n",
       "      <th>1</th>\n",
       "      <td>./temp/Q0266.input</td>\n",
       "      <td>4060</td>\n",
       "      <td>0.0266</td>\n",
       "      <td>2.239476</td>\n",
       "      <td>0.396484</td>\n",
       "    </tr>\n",
       "    <tr>\n",
       "      <th>2</th>\n",
       "      <td>./temp/Q0439.input</td>\n",
       "      <td>6190</td>\n",
       "      <td>0.0439</td>\n",
       "      <td>2.325898</td>\n",
       "      <td>0.604492</td>\n",
       "    </tr>\n",
       "    <tr>\n",
       "      <th>3</th>\n",
       "      <td>./temp/Q0243.input</td>\n",
       "      <td>4252</td>\n",
       "      <td>0.0243</td>\n",
       "      <td>2.517388</td>\n",
       "      <td>0.415234</td>\n",
       "    </tr>\n",
       "    <tr>\n",
       "      <th>4</th>\n",
       "      <td>./temp/Q0277.input</td>\n",
       "      <td>4510</td>\n",
       "      <td>0.0277</td>\n",
       "      <td>2.410369</td>\n",
       "      <td>0.440430</td>\n",
       "    </tr>\n",
       "    <tr>\n",
       "      <th>5</th>\n",
       "      <td>./temp/Q0336.input</td>\n",
       "      <td>5324</td>\n",
       "      <td>0.0336</td>\n",
       "      <td>2.450887</td>\n",
       "      <td>0.519922</td>\n",
       "    </tr>\n",
       "  </tbody>\n",
       "</table>\n",
       "</div>"
      ],
      "text/plain": [
       "          in_filename  bit_exposed_in_10k    QBER     fvals     rvals\n",
       "0   ./temp/Q049.input                6870  0.0490  2.377945  0.670898\n",
       "1  ./temp/Q0266.input                4060  0.0266  2.239476  0.396484\n",
       "2  ./temp/Q0439.input                6190  0.0439  2.325898  0.604492\n",
       "3  ./temp/Q0243.input                4252  0.0243  2.517388  0.415234\n",
       "4  ./temp/Q0277.input                4510  0.0277  2.410369  0.440430\n",
       "5  ./temp/Q0336.input                5324  0.0336  2.450887  0.519922"
      ]
     },
     "execution_count": 32,
     "metadata": {},
     "output_type": "execute_result"
    }
   ],
   "source": []
  },
  {
   "cell_type": "code",
   "execution_count": null,
   "metadata": {},
   "outputs": [],
   "source": []
  }
 ],
 "metadata": {
  "kernelspec": {
   "display_name": "Python 3",
   "language": "python",
   "name": "python3"
  },
  "language_info": {
   "codemirror_mode": {
    "name": "ipython",
    "version": 3
   },
   "file_extension": ".py",
   "mimetype": "text/x-python",
   "name": "python",
   "nbconvert_exporter": "python",
   "pygments_lexer": "ipython3",
   "version": "3.8.2"
  }
 },
 "nbformat": 4,
 "nbformat_minor": 4
}
