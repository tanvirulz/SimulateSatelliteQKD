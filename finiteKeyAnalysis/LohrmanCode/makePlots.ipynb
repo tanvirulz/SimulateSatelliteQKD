{
 "cells": [
  {
   "cell_type": "code",
   "execution_count": 1,
   "metadata": {},
   "outputs": [],
   "source": [
    "import pandas as pd\n",
    "import matplotlib.pyplot as plt\n",
    "import plotly.graph_objects as go\n",
    "\n",
    "from plotly.subplots import make_subplots"
   ]
  },
  {
   "cell_type": "code",
   "execution_count": 2,
   "metadata": {},
   "outputs": [],
   "source": [
    "df1 = pd.read_csv(\"s6.csv\")"
   ]
  },
  {
   "cell_type": "code",
   "execution_count": 3,
   "metadata": {},
   "outputs": [
    {
     "data": {
      "text/html": [
       "<div>\n",
       "<style scoped>\n",
       "    .dataframe tbody tr th:only-of-type {\n",
       "        vertical-align: middle;\n",
       "    }\n",
       "\n",
       "    .dataframe tbody tr th {\n",
       "        vertical-align: top;\n",
       "    }\n",
       "\n",
       "    .dataframe thead th {\n",
       "        text-align: right;\n",
       "    }\n",
       "</style>\n",
       "<table border=\"1\" class=\"dataframe\">\n",
       "  <thead>\n",
       "    <tr style=\"text-align: right;\">\n",
       "      <th></th>\n",
       "      <th>m</th>\n",
       "      <th>l</th>\n",
       "      <th>beta</th>\n",
       "      <th>nu</th>\n",
       "      <th>xi</th>\n",
       "    </tr>\n",
       "  </thead>\n",
       "  <tbody>\n",
       "    <tr>\n",
       "      <th>0</th>\n",
       "      <td>3100.0</td>\n",
       "      <td>8.147251</td>\n",
       "      <td>0.500</td>\n",
       "      <td>0.069311</td>\n",
       "      <td>0.113625</td>\n",
       "    </tr>\n",
       "    <tr>\n",
       "      <th>1</th>\n",
       "      <td>3790.0</td>\n",
       "      <td>81.263493</td>\n",
       "      <td>0.470</td>\n",
       "      <td>0.066902</td>\n",
       "      <td>0.104535</td>\n",
       "    </tr>\n",
       "    <tr>\n",
       "      <th>2</th>\n",
       "      <td>4480.0</td>\n",
       "      <td>163.921404</td>\n",
       "      <td>0.470</td>\n",
       "      <td>0.061085</td>\n",
       "      <td>0.095445</td>\n",
       "    </tr>\n",
       "    <tr>\n",
       "      <th>3</th>\n",
       "      <td>5170.0</td>\n",
       "      <td>250.959782</td>\n",
       "      <td>0.440</td>\n",
       "      <td>0.060903</td>\n",
       "      <td>0.090900</td>\n",
       "    </tr>\n",
       "    <tr>\n",
       "      <th>4</th>\n",
       "      <td>5860.0</td>\n",
       "      <td>344.625414</td>\n",
       "      <td>0.425</td>\n",
       "      <td>0.058721</td>\n",
       "      <td>0.086355</td>\n",
       "    </tr>\n",
       "    <tr>\n",
       "      <th>5</th>\n",
       "      <td>6550.0</td>\n",
       "      <td>447.907692</td>\n",
       "      <td>0.415</td>\n",
       "      <td>0.056449</td>\n",
       "      <td>0.081810</td>\n",
       "    </tr>\n",
       "    <tr>\n",
       "      <th>6</th>\n",
       "      <td>7240.0</td>\n",
       "      <td>542.136615</td>\n",
       "      <td>0.430</td>\n",
       "      <td>0.053313</td>\n",
       "      <td>0.077265</td>\n",
       "    </tr>\n",
       "    <tr>\n",
       "      <th>7</th>\n",
       "      <td>7930.0</td>\n",
       "      <td>657.631308</td>\n",
       "      <td>0.430</td>\n",
       "      <td>0.050177</td>\n",
       "      <td>0.072720</td>\n",
       "    </tr>\n",
       "    <tr>\n",
       "      <th>8</th>\n",
       "      <td>8620.0</td>\n",
       "      <td>730.699405</td>\n",
       "      <td>0.375</td>\n",
       "      <td>0.055631</td>\n",
       "      <td>0.077265</td>\n",
       "    </tr>\n",
       "    <tr>\n",
       "      <th>9</th>\n",
       "      <td>9310.0</td>\n",
       "      <td>859.332912</td>\n",
       "      <td>0.380</td>\n",
       "      <td>0.050904</td>\n",
       "      <td>0.072720</td>\n",
       "    </tr>\n",
       "    <tr>\n",
       "      <th>10</th>\n",
       "      <td>10000.0</td>\n",
       "      <td>988.024495</td>\n",
       "      <td>0.390</td>\n",
       "      <td>0.047723</td>\n",
       "      <td>0.068175</td>\n",
       "    </tr>\n",
       "  </tbody>\n",
       "</table>\n",
       "</div>"
      ],
      "text/plain": [
       "          m           l   beta        nu       xi \n",
       "0    3100.0    8.147251  0.500  0.069311  0.113625\n",
       "1    3790.0   81.263493  0.470  0.066902  0.104535\n",
       "2    4480.0  163.921404  0.470  0.061085  0.095445\n",
       "3    5170.0  250.959782  0.440  0.060903  0.090900\n",
       "4    5860.0  344.625414  0.425  0.058721  0.086355\n",
       "5    6550.0  447.907692  0.415  0.056449  0.081810\n",
       "6    7240.0  542.136615  0.430  0.053313  0.077265\n",
       "7    7930.0  657.631308  0.430  0.050177  0.072720\n",
       "8    8620.0  730.699405  0.375  0.055631  0.077265\n",
       "9    9310.0  859.332912  0.380  0.050904  0.072720\n",
       "10  10000.0  988.024495  0.390  0.047723  0.068175"
      ]
     },
     "execution_count": 3,
     "metadata": {},
     "output_type": "execute_result"
    }
   ],
   "source": [
    "df1"
   ]
  },
  {
   "cell_type": "code",
   "execution_count": 4,
   "metadata": {},
   "outputs": [],
   "source": [
    "df2 = pd.read_csv(\"s10.csv\")"
   ]
  },
  {
   "cell_type": "code",
   "execution_count": 5,
   "metadata": {},
   "outputs": [
    {
     "data": {
      "text/plain": [
       "0     0.002628\n",
       "1     0.021442\n",
       "2     0.036590\n",
       "3     0.048542\n",
       "4     0.058810\n",
       "5     0.068383\n",
       "6     0.074881\n",
       "7     0.082930\n",
       "8     0.084768\n",
       "9     0.092302\n",
       "10    0.098802\n",
       "dtype: float64"
      ]
     },
     "execution_count": 5,
     "metadata": {},
     "output_type": "execute_result"
    }
   ],
   "source": [
    "df1[' l']/df1['m']"
   ]
  },
  {
   "cell_type": "code",
   "execution_count": 17,
   "metadata": {},
   "outputs": [],
   "source": [
    "legend = ['s = ' + str(6),'s = ' + str(10)]"
   ]
  },
  {
   "cell_type": "code",
   "execution_count": 18,
   "metadata": {},
   "outputs": [
    {
     "data": {
      "image/png": "[encoded data removed]",
      "text/plain": [
       "<Figure size 432x288 with 1 Axes>"
      ]
     },
     "metadata": {
      "needs_background": "light"
     },
     "output_type": "display_data"
    }
   ],
   "source": [
    "plt.loglog(df1['m'], df1[' l']/df1['m'])\n",
    "plt.loglog(df2['m'], df2[' l']/df2['m'])\n",
    "plt.title(\"Finite Key for Small Block Length\")\n",
    "plt.ylim([1e-4, 0.1])\n",
    "plt.xlim([2000, 8000])\n",
    "plt.legend(legend)\n",
    "plt.xlabel('Sifted Key Block Size')\n",
    "plt.ylabel('$l/m$')\n",
    "plt.show() \n"
   ]
  },
  {
   "cell_type": "code",
   "execution_count": 14,
   "metadata": {},
   "outputs": [],
   "source": [
    "df3 = pd.read_csv(\"s6f17.csv\")"
   ]
  },
  {
   "cell_type": "code",
   "execution_count": 15,
   "metadata": {},
   "outputs": [
    {
     "data": {
      "text/html": [
       "<div>\n",
       "<style scoped>\n",
       "    .dataframe tbody tr th:only-of-type {\n",
       "        vertical-align: middle;\n",
       "    }\n",
       "\n",
       "    .dataframe tbody tr th {\n",
       "        vertical-align: top;\n",
       "    }\n",
       "\n",
       "    .dataframe thead th {\n",
       "        text-align: right;\n",
       "    }\n",
       "</style>\n",
       "<table border=\"1\" class=\"dataframe\">\n",
       "  <thead>\n",
       "    <tr style=\"text-align: right;\">\n",
       "      <th></th>\n",
       "      <th>m</th>\n",
       "      <th>l</th>\n",
       "      <th>beta</th>\n",
       "      <th>nu</th>\n",
       "      <th>xi</th>\n",
       "    </tr>\n",
       "  </thead>\n",
       "  <tbody>\n",
       "    <tr>\n",
       "      <th>0</th>\n",
       "      <td>3100.0</td>\n",
       "      <td>-207.026220</td>\n",
       "      <td>0.500</td>\n",
       "      <td>0.069311</td>\n",
       "      <td>0.113625</td>\n",
       "    </tr>\n",
       "    <tr>\n",
       "      <th>1</th>\n",
       "      <td>3790.0</td>\n",
       "      <td>-189.013261</td>\n",
       "      <td>0.495</td>\n",
       "      <td>0.063766</td>\n",
       "      <td>0.104535</td>\n",
       "    </tr>\n",
       "    <tr>\n",
       "      <th>2</th>\n",
       "      <td>4480.0</td>\n",
       "      <td>-157.472839</td>\n",
       "      <td>0.500</td>\n",
       "      <td>0.058221</td>\n",
       "      <td>0.095445</td>\n",
       "    </tr>\n",
       "    <tr>\n",
       "      <th>3</th>\n",
       "      <td>5170.0</td>\n",
       "      <td>-111.702609</td>\n",
       "      <td>0.500</td>\n",
       "      <td>0.053540</td>\n",
       "      <td>0.086355</td>\n",
       "    </tr>\n",
       "    <tr>\n",
       "      <th>4</th>\n",
       "      <td>5860.0</td>\n",
       "      <td>-78.267314</td>\n",
       "      <td>0.500</td>\n",
       "      <td>0.051540</td>\n",
       "      <td>0.081810</td>\n",
       "    </tr>\n",
       "    <tr>\n",
       "      <th>5</th>\n",
       "      <td>6550.0</td>\n",
       "      <td>-37.238677</td>\n",
       "      <td>0.500</td>\n",
       "      <td>0.048677</td>\n",
       "      <td>0.077265</td>\n",
       "    </tr>\n",
       "    <tr>\n",
       "      <th>6</th>\n",
       "      <td>7240.0</td>\n",
       "      <td>12.983706</td>\n",
       "      <td>0.490</td>\n",
       "      <td>0.046541</td>\n",
       "      <td>0.072720</td>\n",
       "    </tr>\n",
       "    <tr>\n",
       "      <th>7</th>\n",
       "      <td>7930.0</td>\n",
       "      <td>66.163250</td>\n",
       "      <td>0.500</td>\n",
       "      <td>0.042950</td>\n",
       "      <td>0.068175</td>\n",
       "    </tr>\n",
       "    <tr>\n",
       "      <th>8</th>\n",
       "      <td>8620.0</td>\n",
       "      <td>97.740422</td>\n",
       "      <td>0.455</td>\n",
       "      <td>0.045677</td>\n",
       "      <td>0.068175</td>\n",
       "    </tr>\n",
       "    <tr>\n",
       "      <th>9</th>\n",
       "      <td>9310.0</td>\n",
       "      <td>165.970250</td>\n",
       "      <td>0.485</td>\n",
       "      <td>0.041360</td>\n",
       "      <td>0.063630</td>\n",
       "    </tr>\n",
       "    <tr>\n",
       "      <th>10</th>\n",
       "      <td>10000.0</td>\n",
       "      <td>205.690466</td>\n",
       "      <td>0.435</td>\n",
       "      <td>0.043905</td>\n",
       "      <td>0.063630</td>\n",
       "    </tr>\n",
       "  </tbody>\n",
       "</table>\n",
       "</div>"
      ],
      "text/plain": [
       "          m           l   beta        nu        xi\n",
       "0    3100.0 -207.026220  0.500  0.069311  0.113625\n",
       "1    3790.0 -189.013261  0.495  0.063766  0.104535\n",
       "2    4480.0 -157.472839  0.500  0.058221  0.095445\n",
       "3    5170.0 -111.702609  0.500  0.053540  0.086355\n",
       "4    5860.0  -78.267314  0.500  0.051540  0.081810\n",
       "5    6550.0  -37.238677  0.500  0.048677  0.077265\n",
       "6    7240.0   12.983706  0.490  0.046541  0.072720\n",
       "7    7930.0   66.163250  0.500  0.042950  0.068175\n",
       "8    8620.0   97.740422  0.455  0.045677  0.068175\n",
       "9    9310.0  165.970250  0.485  0.041360  0.063630\n",
       "10  10000.0  205.690466  0.435  0.043905  0.063630"
      ]
     },
     "execution_count": 15,
     "metadata": {},
     "output_type": "execute_result"
    }
   ],
   "source": [
    "df3"
   ]
  },
  {
   "cell_type": "code",
   "execution_count": 20,
   "metadata": {},
   "outputs": [
    {
     "data": {
      "image/png": "[encoded data removed]",
      "text/plain": [
       "<Figure size 432x288 with 1 Axes>"
      ]
     },
     "metadata": {
      "needs_background": "light"
     },
     "output_type": "display_data"
    }
   ],
   "source": [
    "legend = ['s = ' + str(6)+\", f=1.18\",'s = ' + str(6)+\", f=1.70\"]\n",
    "plt.loglog(df1['m'], df1[' l']/df1['m'])\n",
    "plt.loglog(df3['m'], df3['l']/df3['m'])\n",
    "plt.title(\"Finite Key for Small Block Length compare f values\")\n",
    "plt.ylim([1e-4, 0.1])\n",
    "plt.xlim([2000, 8000])\n",
    "plt.legend(legend)\n",
    "plt.xlabel('Sifted Key Block Size')\n",
    "plt.ylabel('$l/m$')\n",
    "plt.show() "
   ]
  },
  {
   "cell_type": "code",
   "execution_count": null,
   "metadata": {},
   "outputs": [],
   "source": []
  },
  {
   "cell_type": "code",
   "execution_count": null,
   "metadata": {},
   "outputs": [],
   "source": []
  }
 ],
 "metadata": {
  "kernelspec": {
   "display_name": "Python 3",
   "language": "python",
   "name": "python3"
  },
  "language_info": {
   "codemirror_mode": {
    "name": "ipython",
    "version": 3
   },
   "file_extension": ".py",
   "mimetype": "text/x-python",
   "name": "python",
   "nbconvert_exporter": "python",
   "pygments_lexer": "ipython3",
   "version": "3.8.2"
  }
 },
 "nbformat": 4,
 "nbformat_minor": 4
}
