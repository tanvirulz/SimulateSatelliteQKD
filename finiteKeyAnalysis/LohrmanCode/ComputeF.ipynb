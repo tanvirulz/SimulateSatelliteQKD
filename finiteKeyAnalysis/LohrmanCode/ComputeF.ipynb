{
 "cells": [
  {
   "cell_type": "code",
   "execution_count": 33,
   "metadata": {},
   "outputs": [],
   "source": [
    "import pandas as pd\n",
    "import numpy"
   ]
  },
  {
   "cell_type": "code",
   "execution_count": 34,
   "metadata": {},
   "outputs": [],
   "source": [
    "df = pd.read_csv(\"BitExposedNew.csv\")"
   ]
  },
  {
   "cell_type": "code",
   "execution_count": 35,
   "metadata": {},
   "outputs": [
    {
     "data": {
      "text/html": [
       "<div>\n",
       "<style scoped>\n",
       "    .dataframe tbody tr th:only-of-type {\n",
       "        vertical-align: middle;\n",
       "    }\n",
       "\n",
       "    .dataframe tbody tr th {\n",
       "        vertical-align: top;\n",
       "    }\n",
       "\n",
       "    .dataframe thead th {\n",
       "        text-align: right;\n",
       "    }\n",
       "</style>\n",
       "<table border=\"1\" class=\"dataframe\">\n",
       "  <thead>\n",
       "    <tr style=\"text-align: right;\">\n",
       "      <th></th>\n",
       "      <th>in_filename</th>\n",
       "      <th>bit_exposed_in_10k</th>\n",
       "    </tr>\n",
       "  </thead>\n",
       "  <tbody>\n",
       "    <tr>\n",
       "      <th>0</th>\n",
       "      <td>./temp/Q049.input</td>\n",
       "      <td>5107</td>\n",
       "    </tr>\n",
       "    <tr>\n",
       "      <th>1</th>\n",
       "      <td>./temp/Q0266.input</td>\n",
       "      <td>3786</td>\n",
       "    </tr>\n",
       "    <tr>\n",
       "      <th>2</th>\n",
       "      <td>./temp/Q0439.input</td>\n",
       "      <td>4511</td>\n",
       "    </tr>\n",
       "    <tr>\n",
       "      <th>3</th>\n",
       "      <td>./temp/Q0243.input</td>\n",
       "      <td>3084</td>\n",
       "    </tr>\n",
       "    <tr>\n",
       "      <th>4</th>\n",
       "      <td>./temp/Q0277.input</td>\n",
       "      <td>3525</td>\n",
       "    </tr>\n",
       "    <tr>\n",
       "      <th>5</th>\n",
       "      <td>./temp/Q0336.input</td>\n",
       "      <td>3740</td>\n",
       "    </tr>\n",
       "  </tbody>\n",
       "</table>\n",
       "</div>"
      ],
      "text/plain": [
       "          in_filename  bit_exposed_in_10k\n",
       "0   ./temp/Q049.input                5107\n",
       "1  ./temp/Q0266.input                3786\n",
       "2  ./temp/Q0439.input                4511\n",
       "3  ./temp/Q0243.input                3084\n",
       "4  ./temp/Q0277.input                3525\n",
       "5  ./temp/Q0336.input                3740"
      ]
     },
     "execution_count": 35,
     "metadata": {},
     "output_type": "execute_result"
    }
   ],
   "source": [
    "df"
   ]
  },
  {
   "cell_type": "code",
   "execution_count": 36,
   "metadata": {},
   "outputs": [],
   "source": [
    "QBER = [0.049,0.0266,0.0439,0.0243,0.0277,0.0336]"
   ]
  },
  {
   "cell_type": "code",
   "execution_count": 37,
   "metadata": {},
   "outputs": [],
   "source": [
    "df[\"QBER\"] = QBER"
   ]
  },
  {
   "cell_type": "code",
   "execution_count": 38,
   "metadata": {
    "scrolled": true
   },
   "outputs": [
    {
     "data": {
      "text/html": [
       "<div>\n",
       "<style scoped>\n",
       "    .dataframe tbody tr th:only-of-type {\n",
       "        vertical-align: middle;\n",
       "    }\n",
       "\n",
       "    .dataframe tbody tr th {\n",
       "        vertical-align: top;\n",
       "    }\n",
       "\n",
       "    .dataframe thead th {\n",
       "        text-align: right;\n",
       "    }\n",
       "</style>\n",
       "<table border=\"1\" class=\"dataframe\">\n",
       "  <thead>\n",
       "    <tr style=\"text-align: right;\">\n",
       "      <th></th>\n",
       "      <th>in_filename</th>\n",
       "      <th>bit_exposed_in_10k</th>\n",
       "      <th>QBER</th>\n",
       "    </tr>\n",
       "  </thead>\n",
       "  <tbody>\n",
       "    <tr>\n",
       "      <th>0</th>\n",
       "      <td>./temp/Q049.input</td>\n",
       "      <td>5107</td>\n",
       "      <td>0.0490</td>\n",
       "    </tr>\n",
       "    <tr>\n",
       "      <th>1</th>\n",
       "      <td>./temp/Q0266.input</td>\n",
       "      <td>3786</td>\n",
       "      <td>0.0266</td>\n",
       "    </tr>\n",
       "    <tr>\n",
       "      <th>2</th>\n",
       "      <td>./temp/Q0439.input</td>\n",
       "      <td>4511</td>\n",
       "      <td>0.0439</td>\n",
       "    </tr>\n",
       "    <tr>\n",
       "      <th>3</th>\n",
       "      <td>./temp/Q0243.input</td>\n",
       "      <td>3084</td>\n",
       "      <td>0.0243</td>\n",
       "    </tr>\n",
       "    <tr>\n",
       "      <th>4</th>\n",
       "      <td>./temp/Q0277.input</td>\n",
       "      <td>3525</td>\n",
       "      <td>0.0277</td>\n",
       "    </tr>\n",
       "    <tr>\n",
       "      <th>5</th>\n",
       "      <td>./temp/Q0336.input</td>\n",
       "      <td>3740</td>\n",
       "      <td>0.0336</td>\n",
       "    </tr>\n",
       "  </tbody>\n",
       "</table>\n",
       "</div>"
      ],
      "text/plain": [
       "          in_filename  bit_exposed_in_10k    QBER\n",
       "0   ./temp/Q049.input                5107  0.0490\n",
       "1  ./temp/Q0266.input                3786  0.0266\n",
       "2  ./temp/Q0439.input                4511  0.0439\n",
       "3  ./temp/Q0243.input                3084  0.0243\n",
       "4  ./temp/Q0277.input                3525  0.0277\n",
       "5  ./temp/Q0336.input                3740  0.0336"
      ]
     },
     "execution_count": 38,
     "metadata": {},
     "output_type": "execute_result"
    }
   ],
   "source": [
    "df"
   ]
  },
  {
   "cell_type": "code",
   "execution_count": 39,
   "metadata": {},
   "outputs": [],
   "source": [
    "def h(Q):\n",
    "    return -Q*numpy.log2(Q)-(1-Q)*numpy.log2(1-Q); "
   ]
  },
  {
   "cell_type": "code",
   "execution_count": 40,
   "metadata": {},
   "outputs": [],
   "source": [
    "r = 6870/10240"
   ]
  },
  {
   "cell_type": "code",
   "execution_count": 41,
   "metadata": {},
   "outputs": [],
   "source": [
    "#f =r/h(qber)"
   ]
  },
  {
   "cell_type": "code",
   "execution_count": 49,
   "metadata": {},
   "outputs": [
    {
     "name": "stdout",
     "output_type": "stream",
     "text": [
      "1.7677093755063034\n",
      "2.0883392725280876\n",
      "1.695011922066622\n",
      "1.8258759485107126\n",
      "1.8839355319388318\n",
      "1.721697756725525\n"
     ]
    }
   ],
   "source": [
    "fvals = []\n",
    "rvals = []\n",
    "for index, row in df.iterrows():\n",
    "    bx = float(row[\"bit_exposed_in_10k\"])\n",
    "    r = bx / 10240\n",
    "    f = r/ h(float(row[\"QBER\"]))\n",
    "    print (f)\n",
    "    rvals.append(r)\n",
    "    fvals.append(f)"
   ]
  },
  {
   "cell_type": "code",
   "execution_count": 43,
   "metadata": {},
   "outputs": [],
   "source": [
    "df[\"fvals\"] = fvals\n",
    "df[\"rvals\"] = rvals"
   ]
  },
  {
   "cell_type": "code",
   "execution_count": 44,
   "metadata": {},
   "outputs": [],
   "source": [
    "df.to_csv(\"fvals_New.csv\")"
   ]
  },
  {
   "cell_type": "code",
   "execution_count": 45,
   "metadata": {},
   "outputs": [
    {
     "data": {
      "text/plain": [
       "[1.7677093755063034,\n",
       " 2.0883392725280876,\n",
       " 1.695011922066622,\n",
       " 1.8258759485107126,\n",
       " 1.8839355319388318,\n",
       " 1.721697756725525]"
      ]
     },
     "execution_count": 45,
     "metadata": {},
     "output_type": "execute_result"
    }
   ],
   "source": [
    "fvals"
   ]
  },
  {
   "cell_type": "code",
   "execution_count": 46,
   "metadata": {},
   "outputs": [
    {
     "data": {
      "text/html": [
       "<div>\n",
       "<style scoped>\n",
       "    .dataframe tbody tr th:only-of-type {\n",
       "        vertical-align: middle;\n",
       "    }\n",
       "\n",
       "    .dataframe tbody tr th {\n",
       "        vertical-align: top;\n",
       "    }\n",
       "\n",
       "    .dataframe thead th {\n",
       "        text-align: right;\n",
       "    }\n",
       "</style>\n",
       "<table border=\"1\" class=\"dataframe\">\n",
       "  <thead>\n",
       "    <tr style=\"text-align: right;\">\n",
       "      <th></th>\n",
       "      <th>in_filename</th>\n",
       "      <th>bit_exposed_in_10k</th>\n",
       "      <th>QBER</th>\n",
       "      <th>fvals</th>\n",
       "      <th>rvals</th>\n",
       "    </tr>\n",
       "  </thead>\n",
       "  <tbody>\n",
       "    <tr>\n",
       "      <th>0</th>\n",
       "      <td>./temp/Q049.input</td>\n",
       "      <td>5107</td>\n",
       "      <td>0.0490</td>\n",
       "      <td>1.767709</td>\n",
       "      <td>0.498730</td>\n",
       "    </tr>\n",
       "    <tr>\n",
       "      <th>1</th>\n",
       "      <td>./temp/Q0266.input</td>\n",
       "      <td>3786</td>\n",
       "      <td>0.0266</td>\n",
       "      <td>2.088339</td>\n",
       "      <td>0.369727</td>\n",
       "    </tr>\n",
       "    <tr>\n",
       "      <th>2</th>\n",
       "      <td>./temp/Q0439.input</td>\n",
       "      <td>4511</td>\n",
       "      <td>0.0439</td>\n",
       "      <td>1.695012</td>\n",
       "      <td>0.440527</td>\n",
       "    </tr>\n",
       "    <tr>\n",
       "      <th>3</th>\n",
       "      <td>./temp/Q0243.input</td>\n",
       "      <td>3084</td>\n",
       "      <td>0.0243</td>\n",
       "      <td>1.825876</td>\n",
       "      <td>0.301172</td>\n",
       "    </tr>\n",
       "    <tr>\n",
       "      <th>4</th>\n",
       "      <td>./temp/Q0277.input</td>\n",
       "      <td>3525</td>\n",
       "      <td>0.0277</td>\n",
       "      <td>1.883936</td>\n",
       "      <td>0.344238</td>\n",
       "    </tr>\n",
       "    <tr>\n",
       "      <th>5</th>\n",
       "      <td>./temp/Q0336.input</td>\n",
       "      <td>3740</td>\n",
       "      <td>0.0336</td>\n",
       "      <td>1.721698</td>\n",
       "      <td>0.365234</td>\n",
       "    </tr>\n",
       "  </tbody>\n",
       "</table>\n",
       "</div>"
      ],
      "text/plain": [
       "          in_filename  bit_exposed_in_10k    QBER     fvals     rvals\n",
       "0   ./temp/Q049.input                5107  0.0490  1.767709  0.498730\n",
       "1  ./temp/Q0266.input                3786  0.0266  2.088339  0.369727\n",
       "2  ./temp/Q0439.input                4511  0.0439  1.695012  0.440527\n",
       "3  ./temp/Q0243.input                3084  0.0243  1.825876  0.301172\n",
       "4  ./temp/Q0277.input                3525  0.0277  1.883936  0.344238\n",
       "5  ./temp/Q0336.input                3740  0.0336  1.721698  0.365234"
      ]
     },
     "execution_count": 46,
     "metadata": {},
     "output_type": "execute_result"
    }
   ],
   "source": [
    "df"
   ]
  },
  {
   "cell_type": "code",
   "execution_count": 47,
   "metadata": {},
   "outputs": [
    {
     "data": {
      "text/html": [
       "<div>\n",
       "<style scoped>\n",
       "    .dataframe tbody tr th:only-of-type {\n",
       "        vertical-align: middle;\n",
       "    }\n",
       "\n",
       "    .dataframe tbody tr th {\n",
       "        vertical-align: top;\n",
       "    }\n",
       "\n",
       "    .dataframe thead th {\n",
       "        text-align: right;\n",
       "    }\n",
       "</style>\n",
       "<table border=\"1\" class=\"dataframe\">\n",
       "  <thead>\n",
       "    <tr style=\"text-align: right;\">\n",
       "      <th></th>\n",
       "      <th>in_filename</th>\n",
       "      <th>bit_exposed_in_10k</th>\n",
       "      <th>QBER</th>\n",
       "      <th>fvals</th>\n",
       "      <th>rvals</th>\n",
       "    </tr>\n",
       "  </thead>\n",
       "  <tbody>\n",
       "    <tr>\n",
       "      <th>3</th>\n",
       "      <td>./temp/Q0243.input</td>\n",
       "      <td>3084</td>\n",
       "      <td>0.0243</td>\n",
       "      <td>1.825876</td>\n",
       "      <td>0.301172</td>\n",
       "    </tr>\n",
       "    <tr>\n",
       "      <th>1</th>\n",
       "      <td>./temp/Q0266.input</td>\n",
       "      <td>3786</td>\n",
       "      <td>0.0266</td>\n",
       "      <td>2.088339</td>\n",
       "      <td>0.369727</td>\n",
       "    </tr>\n",
       "    <tr>\n",
       "      <th>4</th>\n",
       "      <td>./temp/Q0277.input</td>\n",
       "      <td>3525</td>\n",
       "      <td>0.0277</td>\n",
       "      <td>1.883936</td>\n",
       "      <td>0.344238</td>\n",
       "    </tr>\n",
       "    <tr>\n",
       "      <th>5</th>\n",
       "      <td>./temp/Q0336.input</td>\n",
       "      <td>3740</td>\n",
       "      <td>0.0336</td>\n",
       "      <td>1.721698</td>\n",
       "      <td>0.365234</td>\n",
       "    </tr>\n",
       "    <tr>\n",
       "      <th>2</th>\n",
       "      <td>./temp/Q0439.input</td>\n",
       "      <td>4511</td>\n",
       "      <td>0.0439</td>\n",
       "      <td>1.695012</td>\n",
       "      <td>0.440527</td>\n",
       "    </tr>\n",
       "    <tr>\n",
       "      <th>0</th>\n",
       "      <td>./temp/Q049.input</td>\n",
       "      <td>5107</td>\n",
       "      <td>0.0490</td>\n",
       "      <td>1.767709</td>\n",
       "      <td>0.498730</td>\n",
       "    </tr>\n",
       "  </tbody>\n",
       "</table>\n",
       "</div>"
      ],
      "text/plain": [
       "          in_filename  bit_exposed_in_10k    QBER     fvals     rvals\n",
       "3  ./temp/Q0243.input                3084  0.0243  1.825876  0.301172\n",
       "1  ./temp/Q0266.input                3786  0.0266  2.088339  0.369727\n",
       "4  ./temp/Q0277.input                3525  0.0277  1.883936  0.344238\n",
       "5  ./temp/Q0336.input                3740  0.0336  1.721698  0.365234\n",
       "2  ./temp/Q0439.input                4511  0.0439  1.695012  0.440527\n",
       "0   ./temp/Q049.input                5107  0.0490  1.767709  0.498730"
      ]
     },
     "execution_count": 47,
     "metadata": {},
     "output_type": "execute_result"
    }
   ],
   "source": [
    "df.sort_values(by=['QBER'])"
   ]
  },
  {
   "cell_type": "code",
   "execution_count": null,
   "metadata": {},
   "outputs": [],
   "source": []
  },
  {
   "cell_type": "code",
   "execution_count": null,
   "metadata": {},
   "outputs": [],
   "source": []
  }
 ],
 "metadata": {
  "kernelspec": {
   "display_name": "Python 3",
   "language": "python",
   "name": "python3"
  },
  "language_info": {
   "codemirror_mode": {
    "name": "ipython",
    "version": 3
   },
   "file_extension": ".py",
   "mimetype": "text/x-python",
   "name": "python",
   "nbconvert_exporter": "python",
   "pygments_lexer": "ipython3",
   "version": "3.8.2"
  }
 },
 "nbformat": 4,
 "nbformat_minor": 4
}
