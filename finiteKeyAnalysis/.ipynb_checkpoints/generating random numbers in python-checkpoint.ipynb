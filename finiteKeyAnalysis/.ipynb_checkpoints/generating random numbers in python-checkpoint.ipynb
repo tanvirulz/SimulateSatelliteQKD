{
 "cells": [
  {
   "cell_type": "code",
   "execution_count": 1,
   "metadata": {},
   "outputs": [
    {
     "data": {
      "text/plain": [
       "'/home/ayesha/Documents/work/Tumpa/Swabbian_Bcascade/qkd-table-top-v2-master'"
      ]
     },
     "execution_count": 1,
     "metadata": {},
     "output_type": "execute_result"
    }
   ],
   "source": [
    "pwd"
   ]
  },
  {
   "cell_type": "code",
   "execution_count": 1,
   "metadata": {},
   "outputs": [
    {
     "name": "stdout",
     "output_type": "stream",
     "text": [
      "95\n"
     ]
    }
   ],
   "source": [
    "# Python program for random \n",
    "# binary string generation \n",
    "\n",
    "\n",
    "import random \n",
    "from random import randrange\n",
    "import copy\n",
    "\n",
    "\n",
    "# Function to create the \n",
    "# random binary string \n",
    "def rand_key(p): \n",
    "# Variable to store the \n",
    "# string \n",
    "    key1 = \"\" \n",
    "    raw_key = []\n",
    "\n",
    "# Loop to find the string \n",
    "# of desired length \n",
    "    for i in range(p): \n",
    "# randint function to generate \n",
    "# 0, 1 randomly and converting \n",
    "# the result into str \n",
    "        temp = random.randint(0, 1) \n",
    "\n",
    "# Concatenatin the random 0, 1 \n",
    "# to the final result \n",
    "        # key1 += temp \n",
    "        #raw_key.append(key1)\n",
    "        raw_key.append(temp)\n",
    "    return(raw_key) \n",
    "\n",
    "# Driver Code \n",
    "#n = 9984\n",
    "#n = 50000\n",
    "#n = 50176\n",
    "#n = 10240\n",
    "#n = 50000\n",
    "n = 10240\n",
    "\n",
    "QBER_list = [0.009311, 0.019557, 0.020022, 0.025943, 0.028272,\n",
    "       0.017516, 0.020983, 0.028053, 0.032593, 0.033809,\n",
    "       0.020249, 0.024705, 0.035656, 0.042675, 0.047118,\n",
    "       0.023148, 0.028571, 0.043628, 0.051087, 0.058224]\n",
    "\n",
    "QBER = 0.009311\n",
    "filename = \"input_10240_QBER\"+str(QBER)[2:]+\".txt\"\n",
    "#QBER = 0.053372\n",
    "#QBER = 0.064153\n",
    "#QBER = 0.076067\n",
    "#QBER = 0.081379\n",
    "number_of_error = int(n* QBER) \n",
    "print(number_of_error) \n",
    "A = rand_key(n) \n",
    "#print( list(str1)) \n",
    "\n",
    "#str2 = random.sample(str1, 4)\n",
    "#print(str2)\n",
    "\n",
    "#print(str1[0])\n"
   ]
  },
  {
   "cell_type": "code",
   "execution_count": 2,
   "metadata": {},
   "outputs": [],
   "source": [
    "def genFile(n, QBER, filename):\n",
    "    number_of_error = int(n* QBER) \n",
    "    print(number_of_error) \n",
    "    A = rand_key(n) \n",
    "    rindex = random.sample(range(n),number_of_error)\n",
    "    B = copy.copy(A)\n",
    "    for index in rindex:\n",
    "        B[index] = 1 - B[index]\n",
    "    f= open(filename,\"w\")\n",
    "    f.write (str(n))\n",
    "    f.write(\"\\n\")\n",
    "    for x in A:\n",
    "        f.write(str(x))\n",
    "    f.write(\"\\n\")    \n",
    "\n",
    "    for x in B:\n",
    "        f.write(str(x))\n",
    "    f.write(\"\\n\")    \n",
    "    f.close()"
   ]
  },
  {
   "cell_type": "code",
   "execution_count": 7,
   "metadata": {},
   "outputs": [],
   "source": [
    "def genbitstring(n,filename):\n",
    "    A = rand_key(n)\n",
    "    f = open(filename,\"w\")\n",
    "    for x in A:\n",
    "        f.write(str(x))\n",
    "    f.close()"
   ]
  },
  {
   "cell_type": "code",
   "execution_count": 8,
   "metadata": {},
   "outputs": [],
   "source": [
    "genbitstring(100000,\"error_corrected_key.txt\")"
   ]
  },
  {
   "cell_type": "code",
   "execution_count": 4,
   "metadata": {},
   "outputs": [
    {
     "name": "stdout",
     "output_type": "stream",
     "text": [
      "95\n",
      "200\n",
      "205\n",
      "265\n",
      "289\n",
      "179\n",
      "214\n",
      "287\n",
      "333\n",
      "346\n",
      "207\n",
      "252\n",
      "365\n",
      "436\n",
      "482\n",
      "237\n",
      "292\n",
      "446\n",
      "523\n",
      "596\n"
     ]
    }
   ],
   "source": [
    "for qber in QBER_list: \n",
    "    genFile(n=10240,QBER=qber,filename = \"input_10240_QBER\"+str(qber)[2:]+\".txt\")"
   ]
  },
  {
   "cell_type": "code",
   "execution_count": 155,
   "metadata": {},
   "outputs": [
    {
     "data": {
      "text/plain": [
       "4.0"
      ]
     },
     "execution_count": 155,
     "metadata": {},
     "output_type": "execute_result"
    }
   ],
   "source": [
    "100* 0.04"
   ]
  },
  {
   "cell_type": "code",
   "execution_count": 156,
   "metadata": {},
   "outputs": [
    {
     "data": {
      "text/plain": [
       "16"
      ]
     },
     "execution_count": 156,
     "metadata": {},
     "output_type": "execute_result"
    }
   ],
   "source": [
    "10000 % 32"
   ]
  },
  {
   "cell_type": "code",
   "execution_count": 157,
   "metadata": {},
   "outputs": [
    {
     "data": {
      "text/plain": [
       "9984"
      ]
     },
     "execution_count": 157,
     "metadata": {},
     "output_type": "execute_result"
    }
   ],
   "source": [
    "10000 - 16"
   ]
  },
  {
   "cell_type": "code",
   "execution_count": 158,
   "metadata": {},
   "outputs": [
    {
     "data": {
      "text/plain": [
       "0"
      ]
     },
     "execution_count": 158,
     "metadata": {},
     "output_type": "execute_result"
    }
   ],
   "source": [
    "9984 % 32"
   ]
  },
  {
   "cell_type": "code",
   "execution_count": 159,
   "metadata": {},
   "outputs": [
    {
     "data": {
      "text/plain": [
       "\"\\nfor x in A:\\n    print(x, end='')\\nprint()\""
      ]
     },
     "execution_count": 159,
     "metadata": {},
     "output_type": "execute_result"
    }
   ],
   "source": [
    "'''\n",
    "for x in A:\n",
    "    print(x, end='')\n",
    "print()'''"
   ]
  },
  {
   "cell_type": "code",
   "execution_count": 190,
   "metadata": {},
   "outputs": [],
   "source": [
    "rindex = random.sample(range(n),number_of_error)\n"
   ]
  },
  {
   "cell_type": "code",
   "execution_count": 191,
   "metadata": {},
   "outputs": [
    {
     "name": "stdout",
     "output_type": "stream",
     "text": [
      "[4307, 8253, 1126, 6112, 9010, 5949, 5404, 9315, 5101, 3078, 1937, 6045, 5762, 5039, 5334, 10160, 1453, 6275, 4068, 144, 2337, 1226, 9979, 589, 5722, 4129, 9754, 5065, 8622, 1318, 4594, 1530, 2232, 8602, 9234, 7299, 1245, 6634, 8905, 7023, 960, 1301, 7668, 3382, 578, 1651, 3059, 5426, 6627, 2252, 2229, 6982, 2, 7776, 2530, 6980, 1818, 3090, 9805, 5916, 5141, 1468, 2780, 7001, 7189, 6438, 6198, 9655, 1072, 5512, 1886, 750, 137, 4853, 8652, 1679, 7745, 7355, 10226, 2316, 5042, 1086, 6022, 3270, 640, 4370, 6310, 907, 10138, 8654, 2759, 502, 590, 1411, 991]\n"
     ]
    }
   ],
   "source": [
    "print(rindex)"
   ]
  },
  {
   "cell_type": "code",
   "execution_count": 192,
   "metadata": {},
   "outputs": [],
   "source": [
    "B = copy.copy(A)\n"
   ]
  },
  {
   "cell_type": "code",
   "execution_count": 193,
   "metadata": {},
   "outputs": [],
   "source": [
    "#B"
   ]
  },
  {
   "cell_type": "code",
   "execution_count": 194,
   "metadata": {},
   "outputs": [],
   "source": [
    "for index in rindex:\n",
    "    B[index] = 1 - B[index]\n",
    "    "
   ]
  },
  {
   "cell_type": "code",
   "execution_count": 195,
   "metadata": {},
   "outputs": [],
   "source": [
    "f= open(filename,\"w\")\n",
    "f.write (str(n))\n",
    "f.write(\"\\n\")\n",
    "for x in A:\n",
    "    f.write(str(x))\n",
    "f.write(\"\\n\")    \n",
    "\n",
    "for x in B:\n",
    "    f.write(str(x))\n",
    "f.write(\"\\n\")    \n",
    "f.close()"
   ]
  },
  {
   "cell_type": "code",
   "execution_count": 196,
   "metadata": {},
   "outputs": [
    {
     "data": {
      "text/plain": [
       "95"
      ]
     },
     "execution_count": 196,
     "metadata": {},
     "output_type": "execute_result"
    }
   ],
   "source": [
    "len (rindex )"
   ]
  },
  {
   "cell_type": "code",
   "execution_count": 197,
   "metadata": {},
   "outputs": [
    {
     "data": {
      "text/plain": [
       "0"
      ]
     },
     "execution_count": 197,
     "metadata": {},
     "output_type": "execute_result"
    }
   ],
   "source": [
    "10240 % 32"
   ]
  },
  {
   "cell_type": "markdown",
   "metadata": {},
   "source": [
    "10240 % 16"
   ]
  },
  {
   "cell_type": "code",
   "execution_count": 198,
   "metadata": {},
   "outputs": [
    {
     "data": {
      "text/plain": [
       "0"
      ]
     },
     "execution_count": 198,
     "metadata": {},
     "output_type": "execute_result"
    }
   ],
   "source": [
    "10240 % 16"
   ]
  },
  {
   "cell_type": "code",
   "execution_count": 199,
   "metadata": {},
   "outputs": [
    {
     "data": {
      "text/plain": [
       "0"
      ]
     },
     "execution_count": 199,
     "metadata": {},
     "output_type": "execute_result"
    }
   ],
   "source": [
    "10000 % 16"
   ]
  },
  {
   "cell_type": "code",
   "execution_count": 200,
   "metadata": {},
   "outputs": [
    {
     "data": {
      "text/plain": [
       "16"
      ]
     },
     "execution_count": 200,
     "metadata": {},
     "output_type": "execute_result"
    }
   ],
   "source": [
    "10000 % 32"
   ]
  },
  {
   "cell_type": "code",
   "execution_count": 201,
   "metadata": {},
   "outputs": [
    {
     "data": {
      "text/plain": [
       "1024"
      ]
     },
     "execution_count": 201,
     "metadata": {},
     "output_type": "execute_result"
    }
   ],
   "source": [
    "32 * 32"
   ]
  },
  {
   "cell_type": "code",
   "execution_count": 202,
   "metadata": {},
   "outputs": [
    {
     "data": {
      "text/plain": [
       "848"
      ]
     },
     "execution_count": 202,
     "metadata": {},
     "output_type": "execute_result"
    }
   ],
   "source": [
    "50000 % 1024"
   ]
  },
  {
   "cell_type": "code",
   "execution_count": 203,
   "metadata": {},
   "outputs": [
    {
     "data": {
      "text/plain": [
       "49152"
      ]
     },
     "execution_count": 203,
     "metadata": {},
     "output_type": "execute_result"
    }
   ],
   "source": [
    "50000 - 848"
   ]
  },
  {
   "cell_type": "code",
   "execution_count": 204,
   "metadata": {},
   "outputs": [
    {
     "data": {
      "text/plain": [
       "50176"
      ]
     },
     "execution_count": 204,
     "metadata": {},
     "output_type": "execute_result"
    }
   ],
   "source": [
    "49152 + 1024"
   ]
  },
  {
   "cell_type": "code",
   "execution_count": 205,
   "metadata": {},
   "outputs": [
    {
     "data": {
      "text/plain": [
       "0"
      ]
     },
     "execution_count": 205,
     "metadata": {},
     "output_type": "execute_result"
    }
   ],
   "source": [
    "50176 % 16"
   ]
  },
  {
   "cell_type": "code",
   "execution_count": 206,
   "metadata": {},
   "outputs": [
    {
     "data": {
      "text/plain": [
       "368"
      ]
     },
     "execution_count": 206,
     "metadata": {},
     "output_type": "execute_result"
    }
   ],
   "source": [
    "70000 % 1024"
   ]
  },
  {
   "cell_type": "code",
   "execution_count": 207,
   "metadata": {},
   "outputs": [
    {
     "data": {
      "text/plain": [
       "69632"
      ]
     },
     "execution_count": 207,
     "metadata": {},
     "output_type": "execute_result"
    }
   ],
   "source": [
    "70000 - 368"
   ]
  },
  {
   "cell_type": "code",
   "execution_count": 208,
   "metadata": {},
   "outputs": [
    {
     "data": {
      "text/plain": [
       "70656"
      ]
     },
     "execution_count": 208,
     "metadata": {},
     "output_type": "execute_result"
    }
   ],
   "source": [
    "69632 + 1024"
   ]
  },
  {
   "cell_type": "code",
   "execution_count": 209,
   "metadata": {},
   "outputs": [
    {
     "data": {
      "text/plain": [
       "0"
      ]
     },
     "execution_count": 209,
     "metadata": {},
     "output_type": "execute_result"
    }
   ],
   "source": [
    "70656 % 16"
   ]
  },
  {
   "cell_type": "code",
   "execution_count": 210,
   "metadata": {},
   "outputs": [
    {
     "data": {
      "text/plain": [
       "368"
      ]
     },
     "execution_count": 210,
     "metadata": {},
     "output_type": "execute_result"
    }
   ],
   "source": [
    "70000 % 1024"
   ]
  },
  {
   "cell_type": "code",
   "execution_count": 211,
   "metadata": {},
   "outputs": [
    {
     "data": {
      "text/plain": [
       "69632"
      ]
     },
     "execution_count": 211,
     "metadata": {},
     "output_type": "execute_result"
    }
   ],
   "source": [
    "70000-368"
   ]
  },
  {
   "cell_type": "code",
   "execution_count": 212,
   "metadata": {},
   "outputs": [
    {
     "data": {
      "text/plain": [
       "0"
      ]
     },
     "execution_count": 212,
     "metadata": {},
     "output_type": "execute_result"
    }
   ],
   "source": [
    "69632 % 1024"
   ]
  },
  {
   "cell_type": "code",
   "execution_count": 213,
   "metadata": {},
   "outputs": [
    {
     "data": {
      "text/plain": [
       "0"
      ]
     },
     "execution_count": 213,
     "metadata": {},
     "output_type": "execute_result"
    }
   ],
   "source": [
    "10240 % 16"
   ]
  },
  {
   "cell_type": "code",
   "execution_count": 214,
   "metadata": {},
   "outputs": [
    {
     "data": {
      "text/plain": [
       "0"
      ]
     },
     "execution_count": 214,
     "metadata": {},
     "output_type": "execute_result"
    }
   ],
   "source": [
    "10240 % 32"
   ]
  },
  {
   "cell_type": "code",
   "execution_count": 215,
   "metadata": {},
   "outputs": [],
   "source": [
    "a = \"abc.txt\""
   ]
  },
  {
   "cell_type": "code",
   "execution_count": 216,
   "metadata": {},
   "outputs": [
    {
     "data": {
      "text/plain": [
       "'abc'"
      ]
     },
     "execution_count": 216,
     "metadata": {},
     "output_type": "execute_result"
    }
   ],
   "source": [
    "a[:-4]"
   ]
  },
  {
   "cell_type": "code",
   "execution_count": 5,
   "metadata": {},
   "outputs": [
    {
     "data": {
      "text/plain": [
       "115027.5"
      ]
     },
     "execution_count": 5,
     "metadata": {},
     "output_type": "execute_result"
    }
   ],
   "source": [
    "230055/2"
   ]
  },
  {
   "cell_type": "code",
   "execution_count": 6,
   "metadata": {},
   "outputs": [
    {
     "data": {
      "text/plain": [
       "40102.1865234375"
      ]
     },
     "execution_count": 6,
     "metadata": {},
     "output_type": "execute_result"
    }
   ],
   "source": [
    "(115027 / 10240 ) * 3570  # num message alice 2 bob"
   ]
  },
  {
   "cell_type": "code",
   "execution_count": 7,
   "metadata": {},
   "outputs": [
    {
     "data": {
      "text/plain": [
       "360919.6787109375"
      ]
     },
     "execution_count": 7,
     "metadata": {},
     "output_type": "execute_result"
    }
   ],
   "source": [
    "(115027 / 10240 )*32130 #byte sent"
   ]
  },
  {
   "cell_type": "code",
   "execution_count": 8,
   "metadata": {},
   "outputs": [
    {
     "data": {
      "text/plain": [
       "352.4599609375"
      ]
     },
     "execution_count": 8,
     "metadata": {},
     "output_type": "execute_result"
    }
   ],
   "source": [
    "360919 /1024"
   ]
  },
  {
   "cell_type": "code",
   "execution_count": null,
   "metadata": {},
   "outputs": [],
   "source": []
  }
 ],
 "metadata": {
  "kernelspec": {
   "display_name": "Python 3",
   "language": "python",
   "name": "python3"
  },
  "language_info": {
   "codemirror_mode": {
    "name": "ipython",
    "version": 3
   },
   "file_extension": ".py",
   "mimetype": "text/x-python",
   "name": "python",
   "nbconvert_exporter": "python",
   "pygments_lexer": "ipython3",
   "version": "3.8.2"
  }
 },
 "nbformat": 4,
 "nbformat_minor": 2
}
